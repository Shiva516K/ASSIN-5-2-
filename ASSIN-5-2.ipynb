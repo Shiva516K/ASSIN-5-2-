{
 "cells": [
  {
   "cell_type": "code",
   "execution_count": 1,
   "id": "df1ff574",
   "metadata": {},
   "outputs": [],
   "source": [
    "class Calculator:\n",
    "\n",
    "    def __init__(self,x,y):\n",
    "        self.x=x\n",
    "        self.y=y\n",
    "        \n",
    "    def add(self):\n",
    "        return self.x+self.y\n",
    "    def subtract(self):\n",
    "        return self.y-self.x\n",
    "\n",
    "    def multiply(self):\n",
    "        return self.x*self.y\n",
    "\n",
    "    def divide(self):\n",
    "         return self.y/self.x"
   ]
  },
  {
   "cell_type": "code",
   "execution_count": 2,
   "id": "1ebfeedc",
   "metadata": {},
   "outputs": [],
   "source": [
    "obj= Calculator(10,94)"
   ]
  },
  {
   "cell_type": "code",
   "execution_count": 3,
   "id": "0a32c348",
   "metadata": {},
   "outputs": [
    {
     "data": {
      "text/plain": [
       "104"
      ]
     },
     "execution_count": 3,
     "metadata": {},
     "output_type": "execute_result"
    }
   ],
   "source": [
    "obj.add()"
   ]
  },
  {
   "cell_type": "code",
   "execution_count": 4,
   "id": "c77c2b5a",
   "metadata": {},
   "outputs": [
    {
     "data": {
      "text/plain": [
       "84"
      ]
     },
     "execution_count": 4,
     "metadata": {},
     "output_type": "execute_result"
    }
   ],
   "source": [
    "obj.subtract()"
   ]
  },
  {
   "cell_type": "code",
   "execution_count": 5,
   "id": "76659b2e",
   "metadata": {},
   "outputs": [
    {
     "data": {
      "text/plain": [
       "940"
      ]
     },
     "execution_count": 5,
     "metadata": {},
     "output_type": "execute_result"
    }
   ],
   "source": [
    "obj.multiply()"
   ]
  },
  {
   "cell_type": "code",
   "execution_count": 6,
   "id": "da0d1ea5",
   "metadata": {},
   "outputs": [
    {
     "data": {
      "text/plain": [
       "9.4"
      ]
     },
     "execution_count": 6,
     "metadata": {},
     "output_type": "execute_result"
    }
   ],
   "source": [
    "obj.divide()"
   ]
  },
  {
   "cell_type": "code",
   "execution_count": null,
   "id": "191ec223",
   "metadata": {},
   "outputs": [],
   "source": []
  }
 ],
 "metadata": {
  "kernelspec": {
   "display_name": "Python 3 (ipykernel)",
   "language": "python",
   "name": "python3"
  },
  "language_info": {
   "codemirror_mode": {
    "name": "ipython",
    "version": 3
   },
   "file_extension": ".py",
   "mimetype": "text/x-python",
   "name": "python",
   "nbconvert_exporter": "python",
   "pygments_lexer": "ipython3",
   "version": "3.11.3"
  }
 },
 "nbformat": 4,
 "nbformat_minor": 5
}
